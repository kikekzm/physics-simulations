{
 "cells": [
  {
   "cell_type": "markdown",
   "id": "5d068472",
   "metadata": {
    "pycharm": {
     "name": "#%% md\n"
    }
   },
   "source": [
    "#### 1. Haced un programa que resuelva la colisión de _N_ partículas de masa _m_ y radio _R_ (problema en 2 dimensiones)."
   ]
  },
  {
   "cell_type": "markdown",
   "id": "bb94cada",
   "metadata": {
    "pycharm": {
     "name": "#%% md\n"
    }
   },
   "source": [
    "#### 2. Considerar tanto condiciones de contorno periódicas, como fijas (paredes rígidas)."
   ]
  },
  {
   "cell_type": "markdown",
   "id": "6a9345d3",
   "metadata": {
    "pycharm": {
     "name": "#%% md\n"
    }
   },
   "source": [
    "Primero consideramos una caja 2x2 con condiciones de contorno periódicas:"
   ]
  },
  {
   "cell_type": "code",
   "execution_count": null,
   "id": "eb70267a",
   "metadata": {
    "collapsed": true,
    "pycharm": {
     "name": "#%%\n"
    }
   },
   "outputs": [],
   "source": [
    "import numpy as np\n",
    "\n",
    "# Definimos los parámetros del sistema:\n",
    "N=50\n",
    "Nt=1000                               # Aumentar para alargar la simulación\n",
    "m=1\n",
    "rscale=5.e6\n",
    "L=1\n",
    "R=2e-10*rscale                        # Radio atómico\n",
    "R=0.01\n",
    "tscale=1e9                            # en nanosegundos\n",
    "sbar = 353*rscale/tscale              # velocidad promedio del Ar a 300K  DEMASIADO RAPIDO\n",
    "sbar= 0.01\n",
    "FPS = 30\n",
    "dt= 1./FPS\n",
    "\n",
    "\n",
    "t=np.linspace(0,10,Nt)\n",
    "\n",
    "yy0=2*np.random.random([N,1])-1\n",
    "yy1=np.zeros([N,Nt-1])\n",
    "yy=np.concatenate((yy0,yy1),axis=1)\n",
    "\n",
    "xx0=2*np.random.random([N,1])-1\n",
    "xx1=np.zeros([N,Nt-1])\n",
    "xx=np.concatenate((xx0,xx1),axis=1)\n",
    "\n",
    "vx0=np.sqrt(2)*sbar*np.random.random([N,1])-np.sqrt(2)*sbar/2\n",
    "vx1=np.zeros([N,Nt-1])\n",
    "vx=np.concatenate((vx0,vx1),axis=1)\n",
    "\n",
    "vy0=np.sqrt(2)*sbar*np.random.random([N,1])-np.sqrt(2)*sbar/2\n",
    "vy1=np.zeros([N,Nt-1])\n",
    "vy=np.concatenate((vy0,vy1),axis=1)\n",
    "\n",
    "\n",
    "\n",
    "for n in range(1,Nt):\n",
    "    for i in range(N):\n",
    "        vx[i,n]=vx[i,n-1]  \n",
    "        vy[i,n]=vy[i,n-1]\n",
    "        xx[i,n]=xx[i,n-1]+vx[i,n-1]*t[n]\n",
    "        yy[i,n]=yy[i,n-1]+vy[i,n-1]*t[n]\n",
    "        \n",
    "        #introducimos las condiciones de contorno PERIÓDICAS\n",
    "        if abs(xx[i,n])>=L:\n",
    "            xx[i,n]=-xx[i,n-1]\n",
    "        if abs(yy[i,n])>=L:\n",
    "            yy[i,n]=-yy[i,n-1]    #al chocar con las paredes, se aceleran!!\n",
    "            \n",
    "        #ahora introducimos las colisiones:\n",
    "        for j in range(i,N):\n",
    "            if (np.sqrt((xx[i,n]-xx[j,n])**2 +(yy[i,n]-yy[j,n])**2)<=R) & (i!=j): #quizas R demasiado pequeño?\n",
    "                Vcmx=0.5*(vx[i,n]+vx[j,n])\n",
    "                Vcmy=0.5*(vy[i,n]+vy[j,n])\n",
    "                modsep=np.sqrt((xx[i,n]-xx[j,n])**2+(yy[i,n]-yy[j,n])**2)\n",
    "                modv=np.sqrt((vx[i,n])**2+(vy[i,n])**2)\n",
    "                \n",
    "                vx[i,n]=vx[i,n]-Vcmx-2*modv*(xx[i,n]-xx[j,n])/modsep\n",
    "                vy[i,n]=vy[i,n]-Vcmy-2*modv*(yy[i,n]-yy[j,n])/modsep\n",
    "                vx[j,n]=-vx[i,n]\n",
    "                vy[j,n]=-vy[i,n]\n",
    "\n",
    "\n",
    "\n",
    "import matplotlib.pyplot as plt\n",
    "from matplotlib.animation import FuncAnimation\n",
    "from IPython.display import HTML\n",
    "dimfig=6\n",
    "\n",
    "#Creamos figura y plot\n",
    "fig,ax= plt.subplots()\n",
    "\n",
    "#dimensiones de la figura\n",
    "fig.set_size_inches(dimfig,dimfig)\n",
    "\n",
    "#Primeros datos representados\n",
    "sp,= ax.plot(xx[:,0],yy[:,0],ls='',marker='.',markersize=3)\n",
    "ax.set_aspect('equal')\n",
    "\n",
    "def animate(i):\n",
    "    sp.set_data(xx[:,i],yy[:,i]) #Actualizamos datos\n",
    "    plt.xlim(-L,L)\n",
    "    plt.ylim(-L,L)\n",
    "\n",
    "#Hacemos la animación\n",
    "ani=FuncAnimation(fig,animate,frames=len(t), interval=10)\n",
    "HTML(ani.to_jshtml())"
   ]
  },
  {
   "cell_type": "markdown",
   "id": "1c748f46",
   "metadata": {
    "pycharm": {
     "name": "#%% md\n"
    }
   },
   "source": [
    "Ahora consideramos la condiciones de contorno fijas:"
   ]
  },
  {
   "cell_type": "code",
   "execution_count": null,
   "id": "6958073d",
   "metadata": {
    "pycharm": {
     "name": "#%%\n"
    }
   },
   "outputs": [],
   "source": [
    "import numpy as np\n",
    "\n",
    "# Definimos los parámetros del sistema:\n",
    "N=5\n",
    "Nt=1000                               # Aumentar para alargar la simulación\n",
    "m=1\n",
    "L=.5\n",
    "rscale=5.e6\n",
    "R=0.01                        # Radio atómico\n",
    "tscale=1e9                            # en nanosegundos\n",
    "sbar = 353*rscale/tscale              # velocidad promedio del Ar a 300K\n",
    "FPS = 30\n",
    "dt= 1./FPS\n",
    "\n",
    "\n",
    "t=np.linspace(0,10,Nt)\n",
    "\n",
    "yy0=2*L*np.random.random([N,1])-L\n",
    "yy1=np.zeros([N,Nt-1])\n",
    "yy=np.concatenate((yy0,yy1),axis=1)\n",
    "\n",
    "xx0=2*L*np.random.random([N,1])-L\n",
    "xx1=np.zeros([N,Nt-1])\n",
    "xx=np.concatenate((xx0,xx1),axis=1)\n",
    "\n",
    "vx0=.005*np.random.random([N,1])-.0025\n",
    "vx1=np.zeros([N,Nt-1])\n",
    "vx=np.concatenate((vx0,vx1),axis=1)\n",
    "\n",
    "vy0=.005*np.random.random([N,1])-.0025\n",
    "vy1=np.zeros([N,Nt-1])\n",
    "vy=np.concatenate((vy0,vy1),axis=1)\n",
    "\n",
    "\n",
    "it=0\n",
    "for n in range(1,Nt):\n",
    "    for i in range(N):\n",
    "        vx[i,n]=vx[i,n-1]  \n",
    "        vy[i,n]=vy[i,n-1]\n",
    "        xx[i,n]=xx[i,n-1]+vx[i,n-1]*t[n]\n",
    "        yy[i,n]=yy[i,n-1]+vy[i,n-1]*t[n]\n",
    "        \n",
    "        #introducimos las condiciones de contorno FIJAS\n",
    "        if abs(xx[i,n])>=L-R:\n",
    "            vx[i,n]=-vx[i,n-1]\n",
    "           \n",
    "        if abs(yy[i,n])>=L-R:\n",
    "            vy[i,n]=-vy[i,n-1]    #al chocar con las paredes, se aceleran!!\n",
    "            \n",
    "        #ahora introducimos las colisiones:\n",
    "        for j in range(i,N):\n",
    "            if (np.sqrt((xx[i,n]-xx[j,n])**2 +(yy[i,n]-yy[j,n])**2)<=2*R) & (i!=j):\n",
    "                Vcmx=0.5*(vx[i,n]+vx[j,n])\n",
    "                Vcmy=0.5*(vy[i,n]+vy[j,n])\n",
    "                modsep=np.sqrt((xx[i,n]-xx[j,n])**2+(yy[i,n]-yy[j,n])**2)\n",
    "                modv=np.sqrt((vx[i,n])**2+(vy[i,n])**2)\n",
    "                \n",
    "                vx[i,n]=vx[i,n]-Vcmx-2*modv*(xx[i,n]-xx[j,n])/modsep\n",
    "                vy[i,n]=vy[i,n]-Vcmy-2*modv*(yy[i,n]-yy[j,n])/modsep\n",
    "                vx[j,n]=-vx[i,n]\n",
    "                vy[j,n]=-vy[i,n]\n",
    "                it+=1\n",
    "                #print(modsep,modv,sep='---')\n",
    "print(it)\n",
    "\n",
    "import matplotlib.pyplot as plt\n",
    "from matplotlib.animation import FuncAnimation\n",
    "from IPython.display import HTML\n",
    "dimfig=6\n",
    "\n",
    "#Creamos figura y plot\n",
    "fig,ax= plt.subplots()\n",
    "\n",
    "#dimensiones de la figura\n",
    "fig.set_size_inches(dimfig,dimfig)\n",
    "\n",
    "#Primeros datos representados\n",
    "sp,= ax.plot(xx[:,0],yy[:,0],ls='',marker='.',markersize=3)\n",
    "ax.set_aspect('equal')\n",
    "\n",
    "def animate(i):\n",
    "    sp.set_data(xx[:,i],yy[:,i]) #Actualizamos datos\n",
    "    plt.xlim(-L,L)\n",
    "    plt.ylim(-L,L)\n",
    "\n",
    "#Hacemos la animación\n",
    "ani=FuncAnimation(fig,animate,frames=len(t), interval=10)\n",
    "HTML(ani.to_jshtml())"
   ]
  },
  {
   "cell_type": "markdown",
   "id": "4388a5e9",
   "metadata": {
    "pycharm": {
     "name": "#%% md\n"
    }
   },
   "source": [
    "#### 3. Considerando paredes rígidas, obtened el histograma del módulo de la velocidad y comprobad que la distribución de velocidades sigue la distribución de Maxwell-Boltzmann en 2 dimensiones\n",
    "\n",
    "$$\\rho (v)=\\frac{mv}{k_B T}e^{-\\frac{1}{2}\\frac{mv^2}{k_B T}}$$\n",
    "\n",
    "#### Ayuda: usar el teorema de equipartición para estimar el valor de $k_BT$."
   ]
  },
  {
   "cell_type": "markdown",
   "id": "bbc8d152",
   "metadata": {
    "pycharm": {
     "name": "#%% md\n"
    }
   },
   "source": [
    "La expresión más general del teorema de equipartición es \n",
    "$$\\langle x_m \\frac{\\partial H}{\\partial x_n} \\rangle =k_B T\\delta_{m,n}.$$\n",
    "\n",
    "Si tomamos $x$ como una componente del momento lineal de una partícula ($p_i$), y usando las ecuaciones canónicas de Hamilton, otenemos $$\\langle x_m \\frac{\\partial H}{\\partial x_n} \\rangle= \\langle p_k\\frac{dq_k}{dt}\\rangle=\\langle p_i v_i\\rangle=\\langle m_i v_i^2\\rangle.$$\n",
    "\n",
    "Ahora consideramos $N$ partículas y $d$ dimensiones, y llegamos a la expresión $$ k_BT=\\frac{1}{Nd}\\langle \\sum_{i=1}^N m_iv_i^2\\rangle.$$\n",
    "\n",
    "Dividiendo ambos lados entre dos, y con $d=2$, llegamos a una expresión más interpretable y fácil de calcular: $$k_bT=\\frac{1}{N}\\langle T\\rangle\\ ,$$\n",
    "donde $\\langle T\\rangle$ es la energía cinética promedio de las N partículas."
   ]
  },
  {
   "cell_type": "code",
   "execution_count": null,
   "id": "e05987b2",
   "metadata": {
    "pycharm": {
     "name": "#%%\n"
    }
   },
   "outputs": [],
   "source": [
    "import numpy as np\n",
    "import matplotlib.pyplot as plt\n",
    "\n",
    "# Definimos los parámetros del sistema:\n",
    "N=264\n",
    "Nt=1000                               # Aumentar para alargar la simulación\n",
    "m=1\n",
    "L=1\n",
    "rscale=5.e6\n",
    "R=2e-10*rscale                        # Radio atómica\n",
    "tscale=1e9                            # en nanosegundos\n",
    "sbar = 353*rscale/tscale              # velocidad promedio del Ar a 300K\n",
    "FPS = 30\n",
    "dt= 1./FPS\n",
    "\n",
    "\n",
    "t=np.linspace(0,10,Nt)\n",
    "\n",
    "yy0=2*np.random.random([N,1])-1\n",
    "yy1=np.zeros([N,Nt-1])\n",
    "yy=np.concatenate((yy0,yy1),axis=1)\n",
    "\n",
    "xx0=2*np.random.random([N,1])-1\n",
    "xx1=np.zeros([N,Nt-1])\n",
    "xx=np.concatenate((xx0,xx1),axis=1)\n",
    "\n",
    "vx0=.005*np.random.random([N,1])-.0025\n",
    "vx1=np.zeros([N,Nt-1])\n",
    "vx=np.concatenate((vx0,vx1),axis=1)\n",
    "\n",
    "vy0=.005*np.random.random([N,1])-.0025\n",
    "vy1=np.zeros([N,Nt-1])\n",
    "vy=np.concatenate((vy0,vy1),axis=1)\n",
    "\n",
    "\n",
    "s=np.linspace(1,N,N)\n",
    "for n in range(1,Nt):\n",
    "    for i in range(N):\n",
    "        vx[i,n]=vx[i,n-1]  \n",
    "        vy[i,n]=vy[i,n-1]\n",
    "        xx[i,n]=xx[i,n-1]+vx[i,n-1]*t[n]\n",
    "        yy[i,n]=yy[i,n-1]+vy[i,n-1]*t[n]\n",
    "\n",
    "        #introducimos las condiciones de contorno FIJAS\n",
    "        if abs(xx[i,n])>=k:\n",
    "            vx[i,n]=-vx[i,n-1]\n",
    "        if abs(yy[i,n])>=k:\n",
    "            vy[i,n]=-vy[i,n-1]    #al chocar con las paredes, se aceleran!!        \n",
    "        #ahora introducimos las colisiones:\n",
    "        for j in range(i,N):\n",
    "            if (np.sqrt((xx[i,n]-xx[j,n])**2 +(yy[i,n]-yy[j,n])**2)<=R) & (i!=j):\n",
    "                Vcmx=0.5*(vx[i,n]+vx[j,n])\n",
    "                Vcmy=0.5*(vy[i,n]+vy[j,n])\n",
    "                modsep=np.sqrt((xx[i,n]-xx[j,n])**2+(yy[i,n]-yy[j,n])**2)\n",
    "                modv=np.sqrt((vx[i,n])**2+(vy[i,n])**2)\n",
    "\n",
    "                vx[i,n]=vx[i,n]-Vcmx-2*modv*(xx[i,n]-xx[j,n])/modsep\n",
    "                vy[i,n]=vy[i,n]-Vcmy-2*modv*(yy[i,n]-yy[j,n])/modsep\n",
    "                vx[j,n]=-vx[i,n]\n",
    "                vy[j,n]=-vy[i,n]\n",
    "\n",
    "\n",
    "                \n",
    "modvels=np.sqrt(vx**2+vy**2)\n",
    "kT=1/(2*N)*sum(vx**2+vy**2)[1]\n",
    "print('kT =',kT)\n",
    "plt.hist(modvels, density=True )\n",
    "plt.xlabel('Velocidades')\n",
    "plt.ylabel('Número de partículas')\n",
    "plt.title('Histograma de Velocidades')\n",
    "plt.show()\n",
    "\n",
    "rho=m*modvels/kT *np.exp(-0.5*m*(modvels)**2/kT)\n",
    "plt.scatter(modvels,rho/np.max(rho),marker='.')\n",
    "plt.xlabel('Velocidades')\n",
    "plt.ylabel('Densidad de partículas')\n",
    "plt.title('Distribución de Maxwell-Boltzmann')\n",
    "plt.show()"
   ]
  },
  {
   "cell_type": "markdown",
   "id": "27b8b953",
   "metadata": {
    "pycharm": {
     "name": "#%% md\n"
    }
   },
   "source": [
    "#### 4. Para las condiciones de contorno fijas, obtenga el promedio de colisiones con una de las paredes por unidad de tiempo. Variad el tamaño de la caja y comprobad como varía el número de colisiones. ¿Qué podéis deducir de esta relación?"
   ]
  },
  {
   "cell_type": "markdown",
   "id": "40db4e7c",
   "metadata": {
    "pycharm": {
     "name": "#%% md\n"
    }
   },
   "source": [
    "Para tener mayor precisión estadística mediremos las colisiones en todas las paredes, y dividiremos entre cuatro para obtener las colisiones en una sola cara, que llamaremos $\\sigma$.\n",
    "Al dividir entre el tiempo, en nuestro caso $t=10s$, obtendremos las colisiones por segundo: $\\sigma /t = 0.1\\sigma$."
   ]
  },
  {
   "cell_type": "code",
   "execution_count": null,
   "id": "374ad257",
   "metadata": {
    "pycharm": {
     "name": "#%%\n"
    }
   },
   "outputs": [],
   "source": [
    "import numpy as np\n",
    "\n",
    "# Definimos los parámetros del sistema:\n",
    "N=200\n",
    "Nt=1000                               # Aumentar para alargar la simulación\n",
    "m=1\n",
    "L=10\n",
    "rscale=5.e6\n",
    "R=2e-10*rscale                        # Radio atómica\n",
    "tscale=1e9                            # en nanosegundos\n",
    "sbar = 353*rscale/tscale              # velocidad promedio del Ar a 300K\n",
    "FPS = 30\n",
    "dt= 1./FPS\n",
    "\n",
    "\n",
    "t=np.linspace(0,10,Nt)\n",
    "\n",
    "yy0=2*L*np.random.random([N,1])-1*L\n",
    "yy1=np.zeros([N,Nt-1])\n",
    "yy=np.concatenate((yy0,yy1),axis=1)\n",
    "\n",
    "xx0=2*L*np.random.random([N,1])-1*L\n",
    "xx1=np.zeros([N,Nt-1])\n",
    "xx=np.concatenate((xx0,xx1),axis=1)\n",
    "\n",
    "vx0=.005*np.random.random([N,1])-.0025\n",
    "vx1=np.zeros([N,Nt-1])\n",
    "vx=np.concatenate((vx0,vx1),axis=1)\n",
    "\n",
    "vy0=.005*np.random.random([N,1])-.0025\n",
    "vy1=np.zeros([N,Nt-1])\n",
    "vy=np.concatenate((vy0,vy1),axis=1)\n",
    "\n",
    "\n",
    "s=np.linspace(0,1,10)\n",
    "for k in range(1,L+1):\n",
    "    sigma=0\n",
    "    for n in range(1,Nt):\n",
    "        for i in range(N):\n",
    "            vx[i,n]=vx[i,n-1]  \n",
    "            vy[i,n]=vy[i,n-1]\n",
    "            xx[i,n]=xx[i,n-1]+vx[i,n-1]*t[n]\n",
    "            yy[i,n]=yy[i,n-1]+vy[i,n-1]*t[n]\n",
    "\n",
    "            #introducimos las condiciones de contorno FIJAS\n",
    "            if abs(xx[i,n])>=k:\n",
    "                vx[i,n]=-vx[i,n-1]\n",
    "                sigma+=1\n",
    "            if abs(yy[i,n])>=k:\n",
    "                vy[i,n]=-vy[i,n-1]    #al chocar con las paredes, se aceleran!!\n",
    "                sigma+=1\n",
    "            #ahora introducimos las colisiones:\n",
    "            for j in range(i,N):\n",
    "                if (np.sqrt((xx[i,n]-xx[j,n])**2 +(yy[i,n]-yy[j,n])**2)<=R) & (i!=j):\n",
    "                    Vcmx=0.5*(vx[i,n]+vx[j,n])\n",
    "                    Vcmy=0.5*(vy[i,n]+vy[j,n])\n",
    "                    modsep=np.sqrt((xx[i,n]-xx[j,n])**2+(yy[i,n]-yy[j,n])**2)\n",
    "                    modv=np.sqrt((vx[i,n])**2+(vy[i,n])**2)\n",
    "\n",
    "                    vx[i,n]=vx[i,n]-Vcmx-2*modv*(xx[i,n]-xx[j,n])/modsep\n",
    "                    vy[i,n]=vy[i,n]-Vcmy-2*modv*(yy[i,n]-yy[j,n])/modsep\n",
    "                    vx[j,n]=-vx[i,n]\n",
    "                    vy[j,n]=-vy[i,n]\n",
    "    s[k-1]=sigma/4                \n",
    "    print('Con L =',k,', y N =',N,', se producen sigma/4 =',0.1*sigma/4,'colisiones.')\n",
    "print(s)"
   ]
  },
  {
   "cell_type": "markdown",
   "id": "3fa0b63c",
   "metadata": {
    "pycharm": {
     "name": "#%% md\n"
    }
   },
   "source": [
    "Vemos que las colisiones son inversamente proporcionales a las dimensiones del lado de la caja.\n",
    "Podemos verlo mejor en un gráfico:"
   ]
  },
  {
   "cell_type": "code",
   "execution_count": null,
   "id": "e50c3723",
   "metadata": {
    "pycharm": {
     "name": "#%%\n"
    }
   },
   "outputs": [],
   "source": [
    "import numpy as np\n",
    "import matplotlib.pyplot as plt\n",
    "L=np.linspace(1,10,10)\n",
    "x=np.linspace(1,10)\n",
    "plt.scatter(L**2,s/10)\n",
    "plt.xlabel('Dimensión de un lado de la caja')\n",
    "plt.ylabel('Colisiones por segundo')\n",
    "plt.show()\n",
    "plt.plot(x,1/x**2,'k')\n",
    "plt.show()\n"
   ]
  },
  {
   "cell_type": "markdown",
   "id": "ddb16db9",
   "metadata": {
    "pycharm": {
     "name": "#%% md\n"
    }
   },
   "source": [
    "Vemos que se asemeja a una a una curva del tipo  $y(x)=1/x^2$.\n",
    "\n",
    "Como la presión se puede definir como el número de choques de partículas contra una superficie, se puede ver que sigue una relación parecida a la ecuación de los gases ideales en dos dimensiones: $pA=Nk_BT$, donde la presión es inversamente proporcional al área a una temperatura dada.\n",
    "\n",
    "En nuestro sistema $A=L^2$, así que sigue la relación de los gases ideales $p\\propto L^{-2}$."
   ]
  }
 ],
 "metadata": {
  "kernelspec": {
   "display_name": "Python 3",
   "language": "python",
   "name": "python3"
  },
  "language_info": {
   "codemirror_mode": {
    "name": "ipython",
    "version": 3
   },
   "file_extension": ".py",
   "mimetype": "text/x-python",
   "name": "python",
   "nbconvert_exporter": "python",
   "pygments_lexer": "ipython3",
   "version": "3.6.6+"
  }
 },
 "nbformat": 4,
 "nbformat_minor": 5
}
